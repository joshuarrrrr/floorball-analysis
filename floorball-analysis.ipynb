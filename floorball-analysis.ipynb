{
 "cells": [
  {
   "cell_type": "code",
   "execution_count": 1,
   "metadata": {},
   "outputs": [],
   "source": [
    "import duckdb\n",
    "\n",
    "base_url = \"https://saisonmanager.de\"\n",
    "api_url = base_url + \"/api/v2\"\n",
    "leagues_url = api_url + \"/leagues.json\"\n",
    "standings_url = api_url + \"/leagues/{league_id}/table.json\"\n",
    "scorers_url = api_url + \"/leagues/{league_id}/scorer.json\"\n",
    "schedule_url = api_url + \"/leagues/{league_id}/schedule.json\"\n",
    "game_url = api_url + \"/games/{game_id}.json\"\n",
    "\n",
    "conn = duckdb.connect(\"floorball-verbandsliga-ost.db\")"
   ]
  },
  {
   "cell_type": "code",
   "execution_count": 2,
   "metadata": {},
   "outputs": [],
   "source": [
    "league_id = 1397"
   ]
  },
  {
   "cell_type": "code",
   "execution_count": 4,
   "metadata": {},
   "outputs": [],
   "source": [
    "conn.sql(\n",
    "    f\"\"\"\n",
    "CREATE OR REPLACE TABLE schedule AS SELECT * FROM '{schedule_url.format(league_id=league_id)}';\n",
    "CREATE OR REPLACE TABLE standings AS SELECT * FROM '{standings_url.format(league_id=league_id)}';\n",
    "CREATE OR REPLACE TABLE scorers AS SELECT * FROM '{scorers_url.format(league_id=league_id)}';\n",
    "\"\"\"\n",
    ")\n",
    "\n",
    "game_urls = [\n",
    "    game_url.format(game_id=game_id)\n",
    "    for game_id in conn.sql(\"SELECT game_id FROM schedule;\").df()[\"game_id\"]\n",
    "]\n",
    "conn.sql(\n",
    "    f\"\"\"\n",
    "CREATE OR REPLACE TABLE games AS\n",
    "    SELECT * FROM read_json_auto([{','.join([f\"'{url}'\" for url in game_urls])}], union_by_name = true);\n",
    "\"\"\"\n",
    ")"
   ]
  },
  {
   "cell_type": "code",
   "execution_count": 5,
   "metadata": {},
   "outputs": [
    {
     "data": {
      "text/plain": [
       "┌───────┬────────────────────────────┐\n",
       "│  id   │            name            │\n",
       "│ int64 │          varchar           │\n",
       "├───────┼────────────────────────────┤\n",
       "│  5807 │ Floorball Tigers Magdeburg │\n",
       "│  5811 │ UV Zwigge 07               │\n",
       "│  5806 │ USV Jena                   │\n",
       "│  5805 │ USV Halle Saalebiber II    │\n",
       "│  5804 │ UHC Elster                 │\n",
       "│  5808 │ FBC Phönix Leipzig         │\n",
       "│  5809 │ USV TU Dresden II          │\n",
       "│  5810 │ Red Devils Wernigerode II  │\n",
       "└───────┴────────────────────────────┘"
      ]
     },
     "execution_count": 5,
     "metadata": {},
     "output_type": "execute_result"
    }
   ],
   "source": [
    "conn.sql(\n",
    "    \"\"\"\n",
    "CREATE OR REPLACE TABLE teams AS\n",
    "SELECT\n",
    "    team_id AS id,\n",
    "    team_name AS name,\n",
    "FROM standings;\n",
    "SELECT * FROM teams;\n",
    "\"\"\"\n",
    ")"
   ]
  },
  {
   "cell_type": "code",
   "execution_count": 6,
   "metadata": {},
   "outputs": [
    {
     "data": {
      "text/plain": [
       "┌─────────────────────┬─────────────┬─────────┬─────────┬─────────┬───────┐\n",
       "│     column_name     │ column_type │  null   │   key   │ default │ extra │\n",
       "│       varchar       │   varchar   │ varchar │ varchar │ varchar │ int32 │\n",
       "├─────────────────────┼─────────────┼─────────┼─────────┼─────────┼───────┤\n",
       "│ game_id             │ BIGINT      │ YES     │ NULL    │ NULL    │  NULL │\n",
       "│ id                  │ BIGINT      │ YES     │ NULL    │ NULL    │  NULL │\n",
       "│ type                │ VARCHAR     │ YES     │ NULL    │ NULL    │  NULL │\n",
       "│ team_id             │ BIGINT      │ YES     │ NULL    │ NULL    │  NULL │\n",
       "│ period              │ BIGINT      │ YES     │ NULL    │ NULL    │  NULL │\n",
       "│ home_goals          │ BIGINT      │ YES     │ NULL    │ NULL    │  NULL │\n",
       "│ guest_goals         │ BIGINT      │ YES     │ NULL    │ NULL    │  NULL │\n",
       "│ time                │ TIME        │ YES     │ NULL    │ NULL    │  NULL │\n",
       "│ penalty_type        │ VARCHAR     │ YES     │ NULL    │ NULL    │  NULL │\n",
       "│ penalty_reason      │ BIGINT      │ YES     │ NULL    │ NULL    │  NULL │\n",
       "│ penalty_reason_name │ VARCHAR     │ YES     │ NULL    │ NULL    │  NULL │\n",
       "│ player_id           │ BIGINT      │ YES     │ NULL    │ NULL    │  NULL │\n",
       "│ assist_player_id    │ BIGINT      │ YES     │ NULL    │ NULL    │  NULL │\n",
       "├─────────────────────┴─────────────┴─────────┴─────────┴─────────┴───────┤\n",
       "│ 13 rows                                                       6 columns │\n",
       "└─────────────────────────────────────────────────────────────────────────┘"
      ]
     },
     "execution_count": 6,
     "metadata": {},
     "output_type": "execute_result"
    }
   ],
   "source": [
    "conn.sql(\n",
    "    \"\"\"\n",
    "CREATE OR REPLACE TABLE events AS SELECT\n",
    "    game_id,\n",
    "    event.event_id AS id,\n",
    "    event.event_type AS type,\n",
    "    CASE WHEN event.event_team = 'home' THEN home_team_id ELSE guest_team_id END AS team_id,\n",
    "    event.period AS period,\n",
    "    event.home_goals AS home_goals,\n",
    "    event.guest_goals AS guest_goals,\n",
    "    make_time(\n",
    "        0,\n",
    "        extract('minute' FROM try_strptime(event.time, '%M:%S')),\n",
    "        extract('second' FROM try_strptime(event.time, '%M:%S'))\n",
    "    ) AS time,\n",
    "    event.penalty_type AS penalty_type,\n",
    "    event.penalty_reason AS penalty_reason,\n",
    "    event.penalty_reason_string AS penalty_reason_name,\n",
    "    CASE WHEN event.event_team = 'home' THEN home_players[event.number][1].player_id ELSE guest_players[event.number][1].player_id END AS player_id,\n",
    "    CASE WHEN event.event_team = 'home' THEN home_players[event.assist][1].player_id ELSE guest_players[event.assist][1].player_id END AS assist_player_id,\n",
    "FROM (\n",
    "    SELECT\n",
    "        id AS game_id,\n",
    "        home_team_id,\n",
    "        guest_team_id,\n",
    "        map_from_entries(\n",
    "            list_transform(players.home, player -> (player.trikot_number, player))\n",
    "        ) AS home_players,\n",
    "        map_from_entries(\n",
    "            list_transform(players.guest, player -> (player.trikot_number, player))\n",
    "        ) AS guest_players,\n",
    "        unnest(events) AS event,\n",
    "    FROM games\n",
    "    WHERE ended\n",
    ");\n",
    "DESCRIBE events;\n",
    "\"\"\"\n",
    ")"
   ]
  },
  {
   "cell_type": "code",
   "execution_count": 7,
   "metadata": {},
   "outputs": [
    {
     "data": {
      "text/plain": [
       "┌─────────────┬─────────────┬─────────┬─────────┬─────────┬───────┐\n",
       "│ column_name │ column_type │  null   │   key   │ default │ extra │\n",
       "│   varchar   │   varchar   │ varchar │ varchar │ varchar │ int32 │\n",
       "├─────────────┼─────────────┼─────────┼─────────┼─────────┼───────┤\n",
       "│ id          │ BIGINT      │ YES     │ NULL    │ NULL    │  NULL │\n",
       "│ team_id     │ BIGINT      │ YES     │ NULL    │ NULL    │  NULL │\n",
       "│ lastname    │ VARCHAR     │ YES     │ NULL    │ NULL    │  NULL │\n",
       "│ firstname   │ VARCHAR     │ YES     │ NULL    │ NULL    │  NULL │\n",
       "└─────────────┴─────────────┴─────────┴─────────┴─────────┴───────┘"
      ]
     },
     "execution_count": 7,
     "metadata": {},
     "output_type": "execute_result"
    }
   ],
   "source": [
    "conn.sql(\n",
    "    \"\"\"\n",
    "CREATE OR REPLACE TABLE players AS SELECT DISTINCT ON (id)\n",
    "    player.player_id AS id,\n",
    "    team_id,\n",
    "    player.player_name AS lastname,\n",
    "    player.player_firstname AS firstname,\n",
    "FROM (\n",
    "    SELECT\n",
    "        unnest(players.home) AS player,\n",
    "        home_team_id AS team_id\n",
    "    FROM games\n",
    "    UNION\n",
    "    SELECT\n",
    "        unnest(players.guest) AS player,\n",
    "        guest_team_id AS team_id\n",
    "    FROM games\n",
    ");\n",
    "DESCRIBE players;\n",
    "\"\"\"\n",
    ")"
   ]
  },
  {
   "cell_type": "code",
   "execution_count": 15,
   "metadata": {},
   "outputs": [
    {
     "data": {
      "text/plain": [
       "┌─────────────┬───────────────┬──────────────────────────┐\n",
       "│  lastname   │   firstname   │   penalty_reason_name    │\n",
       "│   varchar   │    varchar    │         varchar          │\n",
       "├─────────────┼───────────────┼──────────────────────────┤\n",
       "│ Starystach  │ Justus        │ Stockschlag              │\n",
       "│ Kraft       │ Marco         │ Stockschlag              │\n",
       "│ Winkelbauer │ Fabian        │ Reklamieren              │\n",
       "│ Steinert    │ Till          │ Stockschlag              │\n",
       "│ Knauer      │ Max           │ Stockschlag              │\n",
       "│ Melzian     │ Virginia      │ Stockschlag              │\n",
       "│ Schulze     │ Christian     │ Stockschlag              │\n",
       "│ Zeiske      │ Leo Alexander │ Stockschlag              │\n",
       "│ Knauer      │ Max           │ Stoßen                   │\n",
       "│ Zoberbier   │ Jens          │ Stoßen                   │\n",
       "│   ·         │  ·            │   ·                      │\n",
       "│   ·         │  ·            │   ·                      │\n",
       "│   ·         │  ·            │   ·                      │\n",
       "│ Braun       │ Benedikt      │ Handspiel                │\n",
       "│ Schubert    │ Patrick       │ Handspiel                │\n",
       "│ Gumbrich    │ Marius        │ Hoher Stock              │\n",
       "│ Schneider   │ Christian     │ Überharter Körpereinsatz │\n",
       "│ Rauch       │ Tomáš         │ Überharter Körpereinsatz │\n",
       "│ Rex         │ Jannik        │ Überharter Körpereinsatz │\n",
       "│ Mißbach     │ Piet          │ sonst. Vergehen          │\n",
       "│ Strickling  │ Paul          │ Überharter Körpereinsatz │\n",
       "│ Zoberbier   │ Johanna       │ sonst. Vergehen          │\n",
       "│ Rauch       │ Tomáš         │ Überharter Körpereinsatz │\n",
       "├─────────────┴───────────────┴──────────────────────────┤\n",
       "│ 123 rows (20 shown)                          3 columns │\n",
       "└────────────────────────────────────────────────────────┘"
      ]
     },
     "execution_count": 15,
     "metadata": {},
     "output_type": "execute_result"
    }
   ],
   "source": [
    "conn.sql(\n",
    "    \"\"\"\n",
    "SELECT player.lastname, player.firstname, event.penalty_reason_name\n",
    "FROM events event JOIN players player ON (event.player_id = player.id)\n",
    "WHERE type = 'penalty'\n",
    "\"\"\"\n",
    ")"
   ]
  }
 ],
 "metadata": {
  "kernelspec": {
   "display_name": "base",
   "language": "python",
   "name": "python3"
  },
  "language_info": {
   "codemirror_mode": {
    "name": "ipython",
    "version": 3
   },
   "file_extension": ".py",
   "mimetype": "text/x-python",
   "name": "python",
   "nbconvert_exporter": "python",
   "pygments_lexer": "ipython3",
   "version": "3.10.12"
  }
 },
 "nbformat": 4,
 "nbformat_minor": 2
}
