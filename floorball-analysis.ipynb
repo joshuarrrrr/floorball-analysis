{
 "cells": [
  {
   "cell_type": "code",
   "execution_count": 1,
   "metadata": {},
   "outputs": [],
   "source": [
    "import duckdb\n",
    "\n",
    "base_url = \"https://saisonmanager.de\"\n",
    "api_url = base_url + \"/api/v2\"\n",
    "leagues_url = api_url + \"/leagues.json\"\n",
    "standings_url = api_url + \"/leagues/{league_id}/table.json\"\n",
    "scorers_url = api_url + \"/leagues/{league_id}/scorer.json\"\n",
    "schedule_url = api_url + \"/leagues/{league_id}/schedule.json\"\n",
    "game_url = api_url + \"/games/{game_id}.json\"\n",
    "\n",
    "conn = duckdb.connect(\"floorball-verbandsliga-ost.db\")"
   ]
  },
  {
   "cell_type": "code",
   "execution_count": 2,
   "metadata": {},
   "outputs": [],
   "source": [
    "league_id = 1397\n",
    "\n",
    "conn.sql(f\"\"\"CREATE OR REPLACE TABLE schedule AS SELECT * FROM '{schedule_url.format(league_id=league_id)}';\"\"\")\n",
    "conn.sql(f\"\"\"CREATE OR REPLACE TABLE standings AS SELECT * FROM '{standings_url.format(league_id=league_id)}';\"\"\")\n",
    "conn.sql(f\"\"\"CREATE OR REPLACE TABLE scorers AS SELECT * FROM '{scorers_url.format(league_id=league_id)}';\"\"\")\n",
    "\n",
    "game_urls = [game_url.format(game_id=game_id) for game_id in conn.sql(\"SELECT game_id FROM schedule;\").df()[\"game_id\"]]\n",
    "conn.sql(f\"\"\"\n",
    "CREATE OR REPLACE TABLE games AS\n",
    "    SELECT * FROM read_json_auto([{','.join([f\"'{url}'\" for url in game_urls])}]);\n",
    "\"\"\")"
   ]
  },
  {
   "cell_type": "code",
   "execution_count": 4,
   "metadata": {},
   "outputs": [
    {
     "data": {
      "text/plain": [
       "┌────────────────────────────┬────────┐\n",
       "│         team_name          │ points │\n",
       "│          varchar           │ int64  │\n",
       "├────────────────────────────┼────────┤\n",
       "│ Floorball Tigers Magdeburg │     32 │\n",
       "│ UV Zwigge 07               │     30 │\n",
       "│ USV Jena                   │     28 │\n",
       "│ USV Halle Saalebiber II    │     22 │\n",
       "│ UHC Elster                 │     15 │\n",
       "│ FBC Phönix Leipzig         │     13 │\n",
       "│ USV TU Dresden II          │     10 │\n",
       "│ Red Devils Wernigerode II  │      3 │\n",
       "└────────────────────────────┴────────┘"
      ]
     },
     "execution_count": 4,
     "metadata": {},
     "output_type": "execute_result"
    }
   ],
   "source": [
    "conn.sql(\"SELECT team_name, points FROM standings\")"
   ]
  }
 ],
 "metadata": {
  "kernelspec": {
   "display_name": "base",
   "language": "python",
   "name": "python3"
  },
  "language_info": {
   "codemirror_mode": {
    "name": "ipython",
    "version": 3
   },
   "file_extension": ".py",
   "mimetype": "text/x-python",
   "name": "python",
   "nbconvert_exporter": "python",
   "pygments_lexer": "ipython3",
   "version": "3.10.12"
  }
 },
 "nbformat": 4,
 "nbformat_minor": 2
}
